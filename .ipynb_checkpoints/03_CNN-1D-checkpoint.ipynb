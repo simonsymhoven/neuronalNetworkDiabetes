{
 "cells": [
  {
   "cell_type": "code",
   "execution_count": 11,
   "metadata": {},
   "outputs": [],
   "source": [
    "# IMPORTS\n",
    "import pandas as pd\n",
    "from pandas import DataFrame\n",
    "import numpy as np\n",
    "import matplotlib as mpl\n",
    "import matplotlib.pyplot as plt\n",
    "import scipy as sc\n",
    "from scipy import linalg, optimize, constants, interpolate, special, stats\n",
    "import math as ma\n",
    "from math import exp, pow, sqrt, log\n",
    "import seaborn as sns \n",
    "import statsmodels.api as sm\n",
    "import statsmodels.stats.api as sms\n",
    "import keras\n",
    "import random\n",
    "from keras.utils import plot_model, to_categorical\n",
    "from keras.models import Sequential\n",
    "from keras.layers import Dense, Activation, Dropout\n",
    "from keras.layers import Conv1D, Conv2D, MaxPooling2D, Flatten\n",
    "from keras.optimizers import SGD\n",
    "import sklearn as sl\n",
    "from sklearn.model_selection import train_test_split\n",
    "from sklearn.preprocessing import OneHotEncoder, StandardScaler\n",
    "from prettytable import PrettyTable\n",
    "from sklearn.decomposition import PCA\n",
    "\n",
    "%matplotlib inline"
   ]
  },
  {
   "cell_type": "markdown",
   "metadata": {},
   "source": [
    "# CNN 1D Modell"
   ]
  },
  {
   "cell_type": "markdown",
   "metadata": {},
   "source": [
    "### Daten vorverarbeiten"
   ]
  },
  {
   "cell_type": "code",
   "execution_count": 2,
   "metadata": {},
   "outputs": [
    {
     "name": "stdout",
     "output_type": "stream",
     "text": [
      "(20, 20)\n",
      "Input Shape :  (20, 20, 1)\n",
      "Training data shape :  (14, 20, 1) (14,)\n",
      "Testing data shape :  (6, 20, 1) (6,)\n",
      "\n",
      "-----------------\n",
      "+--------+----------+---------+\n",
      "| target | !has_DM2 | has_DM2 |\n",
      "+--------+----------+---------+\n",
      "|  1.0   |   0.0    |   1.0   |\n",
      "|  0.0   |   1.0    |   0.0   |\n",
      "|  1.0   |   0.0    |   1.0   |\n",
      "|  0.0   |   1.0    |   0.0   |\n",
      "|  1.0   |   0.0    |   1.0   |\n",
      "|  0.0   |   1.0    |   0.0   |\n",
      "|  1.0   |   0.0    |   1.0   |\n",
      "|  1.0   |   0.0    |   1.0   |\n",
      "|  0.0   |   1.0    |   0.0   |\n",
      "|  0.0   |   1.0    |   0.0   |\n",
      "|  1.0   |   0.0    |   1.0   |\n",
      "|  1.0   |   0.0    |   1.0   |\n",
      "|  0.0   |   1.0    |   0.0   |\n",
      "|  0.0   |   1.0    |   0.0   |\n",
      "+--------+----------+---------+\n"
     ]
    }
   ],
   "source": [
    "# csv einlesen\n",
    "Vein = pd.read_csv('datensatz/vein.csv')\n",
    "# dataframe draus machen\n",
    "df = pd.DataFrame(Vein)\n",
    "\n",
    "#inputs und targets generieren (Spalte 1 für die Targets, Spalte 2 bis Ende für die Inputs)\n",
    "inputs = df.iloc[1:, 2:].values\n",
    "targets = df.iloc[1:, 1].values\n",
    "\n",
    "#PCA VERSION 1\n",
    "\n",
    "#Standardscaler über inputs laufen lassen \n",
    "scaler = StandardScaler()\n",
    "scaler.fit(inputs)\n",
    "\n",
    "# Apply transform to Inputs\n",
    "scaled_inputs = scaler.transform(inputs)\n",
    "\n",
    "# Make an instance of the Model\n",
    "pca = PCA(20) # ODER: pca = PCA(n_components=20)\n",
    "\n",
    "pca.fit(scaled_inputs)\n",
    "\n",
    "inputs_pca = pca.transform(scaled_inputs)\n",
    "\n",
    "print(inputs_pca.shape)\n",
    "\n",
    "# ODER DOCH ALS Array?! -> inputs.shape[0],1,3160\n",
    "inputs = inputs_pca.reshape(inputs_pca.shape[0],20,1).astype( 'float32' )\n",
    "\n",
    "print('Input Shape : ' , inputs.shape)\n",
    "random.shuffle(inputs)\n",
    "inputs_train, inputs_test, targets_train, targets_test = train_test_split(inputs, targets, test_size = 0.3)\n",
    "\n",
    "\n",
    "#(Anzahl Datenpunkte, Höhe, Breite, Kanäle)  \n",
    "print('Training data shape : ', inputs_train.shape, targets_train.shape)\n",
    "print('Testing data shape : ', inputs_test.shape, targets_test.shape)\n",
    "\n",
    "\n",
    "print('\\n-----------------')\n",
    "#TARGETS\n",
    "targets_train_categorial = to_categorical(targets_train)\n",
    "targets_test_categorial = to_categorical(targets_test)\n",
    "\n",
    "x = PrettyTable()\n",
    "x.field_names = [\"target\", \"!has_DM2\", \"has_DM2\"]\n",
    "\n",
    "i = 0\n",
    "for target in targets_train_categorial:\n",
    "    hasNotDM2, hasDM2 = target\n",
    "    x.add_row([targets_train[i],hasNotDM2, hasDM2])\n",
    "    i+=1\n",
    "print(x)\n"
   ]
  },
  {
   "cell_type": "markdown",
   "metadata": {},
   "source": [
    "### Plotfunktion "
   ]
  },
  {
   "cell_type": "code",
   "execution_count": 3,
   "metadata": {},
   "outputs": [],
   "source": [
    "#Funktion für Plot Loss\n",
    "from IPython.display import clear_output\n",
    "class PlotLosses(keras.callbacks.Callback):\n",
    "    def on_train_begin(self, logs={}):\n",
    "        self.i = 0\n",
    "        self.x = []\n",
    "        self.losses = []\n",
    "        self.val_losses = []\n",
    "        \n",
    "        self.fig = plt.figure()\n",
    "        \n",
    "        self.logs = []\n",
    "\n",
    "    def on_epoch_end(self, epoch, logs={}):\n",
    "        \n",
    "        self.logs.append(logs)\n",
    "        self.x.append(self.i)\n",
    "        self.losses.append(logs.get('loss'))\n",
    "        self.val_losses.append(logs.get('val_loss'))\n",
    "        self.i += 1\n",
    "        \n",
    "        clear_output(wait=True)\n",
    "        plt.plot(self.x, self.losses, label=\"loss\")\n",
    "        plt.plot(self.x, self.val_losses, label=\"val_loss\")\n",
    "        plt.legend()\n",
    "        plt.show();\n",
    "        \n",
    "plot_losses = PlotLosses()"
   ]
  },
  {
   "cell_type": "markdown",
   "metadata": {},
   "source": [
    "# 2. CNN-Modell"
   ]
  },
  {
   "cell_type": "code",
   "execution_count": 8,
   "metadata": {},
   "outputs": [
    {
     "data": {
      "image/png": "[encoded data removed]",
      "text/plain": [
       "<Figure size 432x288 with 1 Axes>"
      ]
     },
     "metadata": {
      "needs_background": "light"
     },
     "output_type": "display_data"
    },
    {
     "name": "stdout",
     "output_type": "stream",
     "text": [
      "Model: \"sequential_3\"\n",
      "_________________________________________________________________\n",
      "Layer (type)                 Output Shape              Param #   \n",
      "=================================================================\n",
      "conv1d_7 (Conv1D)            (None, 20, 32)            96        \n",
      "_________________________________________________________________\n",
      "conv1d_8 (Conv1D)            (None, 20, 32)            2080      \n",
      "_________________________________________________________________\n",
      "conv1d_9 (Conv1D)            (None, 20, 16)            1040      \n",
      "_________________________________________________________________\n",
      "flatten_3 (Flatten)          (None, 320)               0         \n",
      "_________________________________________________________________\n",
      "dense_3 (Dense)              (None, 2)                 642       \n",
      "=================================================================\n",
      "Total params: 3,858\n",
      "Trainable params: 3,858\n",
      "Non-trainable params: 0\n",
      "_________________________________________________________________\n",
      "None\n",
      "6/6 [==============================] - 0s 940us/step\n",
      "Accuracy: 33.33\n"
     ]
    }
   ],
   "source": [
    "veinModel = Sequential()\n",
    "\n",
    "veinModel.add(Conv1D(32,                #Anzahl der Filter\n",
    "              kernel_size=2,        #Dimensionen des Fensters\n",
    "              strides=1,            #Größe der Schritte\n",
    "              padding='same',           #Padding: same=dim(in)=dim(out), valid=no Padding\n",
    "              activation='relu',        #Aktivierungsfunktion\n",
    "              input_shape=inputs_train[0].shape))   #Dimension des Inputs\n",
    "\n",
    "veinModel.add(Conv1D(32, \n",
    "              kernel_size=2, \n",
    "              strides=1,            #Größe der Schritte\n",
    "              padding='same',           #Padding: same=dim(in)=dim(out), valid=no Padding\n",
    "              activation='relu',        #Aktivierungsfunktion\n",
    "              input_shape=inputs_train[0].shape))\n",
    "\n",
    "veinModel.add(Conv1D(16, \n",
    "              kernel_size=2, \n",
    "              strides=1,            #Größe der Schritte\n",
    "              padding='same',           #Padding: same=dim(in)=dim(out), valid=no Padding\n",
    "              activation='relu',        #Aktivierungsfunktion\n",
    "              input_shape=inputs_train[0].shape))\n",
    "\n",
    "veinModel.add(Flatten())                       #Feature-Vektor erzeugen\n",
    "veinModel.add(Dense(2, activation='softmax')) #dicht verschaltete Schicht - lernt Klassifikation!\n",
    "\n",
    "#backpropagation \n",
    "#Stochastic gradient descent\n",
    "sgd = SGD(lr=0.001, decay=1e-6, momentum=0.9, nesterov=True) #Parameter beim SGD Lernrate, Momentum, ...\n",
    "\n",
    "veinModel.compile(\n",
    "    optimizer=sgd, \n",
    "    loss='categorical_crossentropy', \n",
    "    metrics=['accuracy'])\n",
    "\n",
    "#train the model\n",
    "history_veinModel=veinModel.fit(inputs_train, targets_train_categorial, \n",
    "          epochs=10,\n",
    "          batch_size=2,\n",
    "          verbose=1,\n",
    "          validation_data=(inputs_test, targets_test_categorial),  \n",
    "          callbacks=[plot_losses])\n",
    "\n",
    "\n",
    "print(veinModel.summary())\n",
    "\n",
    "nochUnbekannterWert, score = veinModel.evaluate(inputs_test, targets_test_categorial, batch_size=2)\n",
    "print('Accuracy: %.2f' % (score*100))"
   ]
  },
  {
   "cell_type": "code",
   "execution_count": 9,
   "metadata": {},
   "outputs": [],
   "source": [
    "#Prediction für das erste Bild der Testmenge\n",
    "result_VeinModel=veinModel.predict(inputs_test[:])\n",
    "\n",
    "#Tabelle zeichnen\n",
    "x = PrettyTable()\n",
    "x.field_names = [\"!has_DM2\", \"has_DM2\", \"output\", \"target\", \"prediction\"]\n",
    "\n",
    "i = 0\n",
    "for predict in result_VeinModel:\n",
    "    hasNotDM2, hasDM2 = predict\n",
    "    output = np.argmax(predict)\n",
    "    target = np.argmax(targets_test_categorial[i])\n",
    "    check = '\\u2716'\n",
    "    if target == output:\n",
    "        check = u'\\u2714'\n",
    "    \n",
    "    x.add_row([hasNotDM2, hasDM2, output, target, check])\n",
    "    i+=1"
   ]
  },
  {
   "cell_type": "code",
   "execution_count": 10,
   "metadata": {},
   "outputs": [
    {
     "name": "stdout",
     "output_type": "stream",
     "text": [
      "Auswertung:\n",
      "+------------+------------+--------+--------+------------+\n",
      "|  !has_DM2  |  has_DM2   | output | target | prediction |\n",
      "+------------+------------+--------+--------+------------+\n",
      "| 0.23384231 | 0.76615775 |   1    |   0    |     ✖      |\n",
      "| 0.7318128  | 0.26818725 |   0    |   1    |     ✖      |\n",
      "| 0.60476595 | 0.39523405 |   0    |   1    |     ✖      |\n",
      "| 0.60476595 | 0.39523405 |   0    |   1    |     ✖      |\n",
      "| 0.5640887  | 0.43591136 |   0    |   0    |     ✔      |\n",
      "| 0.24465454 | 0.7553454  |   1    |   1    |     ✔      |\n",
      "+------------+------------+--------+--------+------------+\n"
     ]
    }
   ],
   "source": [
    "print('Auswertung:')\n",
    "print(x)"
   ]
  },
  {
   "cell_type": "code",
   "execution_count": null,
   "metadata": {},
   "outputs": [],
   "source": []
  }
 ],
 "metadata": {
  "kernelspec": {
   "display_name": "Python 3",
   "language": "python",
   "name": "python3"
  },
  "language_info": {
   "codemirror_mode": {
    "name": "ipython",
    "version": 3
   },
   "file_extension": ".py",
   "mimetype": "text/x-python",
   "name": "python",
   "nbconvert_exporter": "python",
   "pygments_lexer": "ipython3",
   "version": "3.7.4"
  }
 },
 "nbformat": 4,
 "nbformat_minor": 2
}
