{
 "cells": [
  {
   "cell_type": "code",
   "execution_count": 1,
   "metadata": {},
   "outputs": [
    {
     "name": "stderr",
     "output_type": "stream",
     "text": [
      "Using TensorFlow backend.\n"
     ]
    }
   ],
   "source": [
    "# IMPORTS\n",
    "import pandas as pd\n",
    "from pandas import DataFrame\n",
    "import numpy as np\n",
    "import matplotlib as mpl\n",
    "import matplotlib.pyplot as plt\n",
    "import scipy as sc\n",
    "from scipy import linalg, optimize, constants, interpolate, special, stats\n",
    "import math as ma\n",
    "from math import exp, pow, sqrt, log\n",
    "import seaborn as sns \n",
    "import statsmodels.api as sm\n",
    "import statsmodels.stats.api as sms\n",
    "import keras\n",
    "import random\n",
    "from keras.utils import plot_model, to_categorical\n",
    "from keras.models import Sequential, Model\n",
    "from keras.layers import Dense, Activation, Dropout, Reshape\n",
    "from keras.layers import Conv1D, Conv2D, MaxPooling1D, Flatten, Input, UpSampling1D\n",
    "from keras.optimizers import SGD\n",
    "import sklearn as sl\n",
    "from sklearn.model_selection import train_test_split\n",
    "from sklearn.preprocessing import OneHotEncoder, StandardScaler\n",
    "from prettytable import PrettyTable\n",
    "from keras import backend as K\n",
    "from sklearn.utils import shuffle\n",
    "from sklearn.decomposition import PCA\n",
    "\n",
    "\n",
    "%matplotlib inline"
   ]
  },
  {
   "cell_type": "markdown",
   "metadata": {},
   "source": [
    "# Autoencoder mit komprimiertem Input (Ausgabe Klasse)"
   ]
  },
  {
   "cell_type": "code",
   "execution_count": 14,
   "metadata": {},
   "outputs": [
    {
     "name": "stdout",
     "output_type": "stream",
     "text": [
      "\n",
      "-----------------\n",
      "Training data shape :  (7, 20, 1) (7, 2)\n",
      "Testing data shape :  (3, 20, 1) (3, 2)\n",
      "+--------+----------+---------+\n",
      "| target | !has_DM2 | has_DM2 |\n",
      "+--------+----------+---------+\n",
      "|  0.0   |   1.0    |   0.0   |\n",
      "|  0.0   |   1.0    |   0.0   |\n",
      "|  1.0   |   0.0    |   1.0   |\n",
      "|  1.0   |   0.0    |   1.0   |\n",
      "|  1.0   |   0.0    |   1.0   |\n",
      "|  0.0   |   1.0    |   0.0   |\n",
      "|  0.0   |   1.0    |   0.0   |\n",
      "+--------+----------+---------+\n"
     ]
    }
   ],
   "source": [
    "# csv einlesen\n",
    "Vein = pd.read_csv('datensatz/vein.csv')\n",
    "# dataframe draus machen\n",
    "df = pd.DataFrame(Vein)\n",
    "\n",
    "df = df.iloc[1:, 1:]\n",
    "\n",
    "df = shuffle(df)\n",
    "\n",
    "inputs = df.iloc[:, 1:].values\n",
    "targets = df.iloc[:, 0].values\n",
    "\n",
    "\n",
    "#Standardscaler über inputs laufen lassen \n",
    "scaler = StandardScaler()\n",
    "scaler.fit(inputs)\n",
    "# Apply transform to Inputs\n",
    "scaled_inputs = scaler.transform(inputs)\n",
    "\n",
    "# Make an instance of the Model\n",
    "pca = PCA(n_components=20) # ODER: pca = PCA(n_components=20)\n",
    "pca.fit(scaled_inputs)\n",
    "\n",
    "inputs = pca.transform(scaled_inputs)\n",
    "\n",
    "# splitten in Trainings Daten und Prediction Daten:\n",
    "\n",
    "# TRAINING\n",
    "training_inputs = inputs[0:10]\n",
    "training_targets = targets[0:10]\n",
    "\n",
    "training_inputs = training_inputs.reshape(training_inputs.shape[0],20,1).astype( 'float32' )\n",
    "\n",
    "# PREDICTION\n",
    "pred_inputs = inputs[10:]\n",
    "pred_targets = targets[10:]\n",
    "\n",
    "pred_inputs = pred_inputs.reshape(pred_inputs.shape[0],20,1).astype( 'float32' )\n",
    "\n",
    "#Trainingsdaten in test und training splitten (7:3)\n",
    "inputs_train, inputs_test, targets_train, targets_test = train_test_split(training_inputs, training_targets, test_size = 0.3)\n",
    "\n",
    "print('\\n-----------------')\n",
    "#TARGETS\n",
    "targets_train_categorial = to_categorical(targets_train)\n",
    "targets_test_categorial = to_categorical(targets_test)\n",
    "\n",
    "#(Anzahl Datenpunkte, Höhe, Breite, Kanäle)  \n",
    "print('Training data shape : ', inputs_train.shape, targets_train_categorial.shape)\n",
    "print('Testing data shape : ', inputs_test.shape, targets_test_categorial.shape)\n",
    "\n",
    "\n",
    "x = PrettyTable()\n",
    "x.field_names = [\"target\", \"!has_DM2\", \"has_DM2\"]\n",
    "\n",
    "i = 0\n",
    "for target in targets_train_categorial:\n",
    "    hasNotDM2, hasDM2 = target\n",
    "    x.add_row([targets_train[i],hasNotDM2, hasDM2])\n",
    "    i+=1\n",
    "print(x)"
   ]
  },
  {
   "cell_type": "code",
   "execution_count": 15,
   "metadata": {},
   "outputs": [],
   "source": [
    "#Funktion für Plot Loss\n",
    "from IPython.display import clear_output\n",
    "class PlotLosses(keras.callbacks.Callback):\n",
    "    def on_train_begin(self, logs={}):\n",
    "        self.i = 0\n",
    "        self.x = []\n",
    "        self.losses = []\n",
    "        self.val_losses = []\n",
    "        \n",
    "        self.fig = plt.figure()\n",
    "        \n",
    "        self.logs = []\n",
    "\n",
    "    def on_epoch_end(self, epoch, logs={}):\n",
    "        \n",
    "        self.logs.append(logs)\n",
    "        self.x.append(self.i)\n",
    "        self.losses.append(logs.get('loss'))\n",
    "        self.val_losses.append(logs.get('val_loss'))\n",
    "        self.i += 1\n",
    "        \n",
    "        clear_output(wait=True)\n",
    "        plt.plot(self.x, self.losses, label=\"loss\")\n",
    "        plt.plot(self.x, self.val_losses, label=\"val_loss\")\n",
    "        plt.legend()\n",
    "        plt.show();\n",
    "        \n",
    "plot_losses = PlotLosses()"
   ]
  },
  {
   "cell_type": "code",
   "execution_count": 16,
   "metadata": {},
   "outputs": [
    {
     "name": "stdout",
     "output_type": "stream",
     "text": [
      "-------ENCODING--------\n",
      "1. Schicht :  (None, 19, 16)\n",
      "Maxpooling :  (None, 9, 16)\n",
      "2. Schicht :  (None, 9, 16)\n",
      "Maxpooling :  (None, 4, 32)\n",
      "Encoder Shape (None, 32)\n",
      "--------DECODING-------\n",
      "3. Schicht :  (None, 3, 32)\n",
      "Upsampling :  (None, 9, 32)\n",
      "4. Schicht :  (None, 8, 32)\n",
      "Upsampling :  (None, 24, 32)\n",
      "Decoder Shape (None, 2, 1)\n",
      "Model: \"model_6\"\n",
      "_________________________________________________________________\n",
      "Layer (type)                 Output Shape              Param #   \n",
      "=================================================================\n",
      "input_9 (InputLayer)         (None, 20, 1)             0         \n",
      "_________________________________________________________________\n",
      "conv1d_24 (Conv1D)           (None, 19, 16)            48        \n",
      "_________________________________________________________________\n",
      "max_pooling1d_11 (MaxPooling (None, 9, 16)             0         \n",
      "_________________________________________________________________\n",
      "conv1d_25 (Conv1D)           (None, 8, 32)             1056      \n",
      "_________________________________________________________________\n",
      "max_pooling1d_12 (MaxPooling (None, 4, 32)             0         \n",
      "_________________________________________________________________\n",
      "conv1d_26 (Conv1D)           (None, 3, 32)             2080      \n",
      "_________________________________________________________________\n",
      "up_sampling1d_11 (UpSampling (None, 9, 32)             0         \n",
      "_________________________________________________________________\n",
      "conv1d_27 (Conv1D)           (None, 8, 32)             2080      \n",
      "_________________________________________________________________\n",
      "up_sampling1d_12 (UpSampling (None, 24, 32)            0         \n",
      "_________________________________________________________________\n",
      "flatten_12 (Flatten)         (None, 768)               0         \n",
      "_________________________________________________________________\n",
      "dense_12 (Dense)             (None, 2)                 1538      \n",
      "_________________________________________________________________\n",
      "reshape_6 (Reshape)          (None, 2, 1)              0         \n",
      "=================================================================\n",
      "Total params: 6,802\n",
      "Trainable params: 6,802\n",
      "Non-trainable params: 0\n",
      "_________________________________________________________________\n"
     ]
    }
   ],
   "source": [
    "# ENCODER\n",
    "print('-------ENCODING--------')\n",
    "input_sig = Input(batch_shape=(None,20,1))\n",
    "x = Conv1D(16,2, activation='relu', padding='valid')(input_sig)\n",
    "print('1. Schicht : ', x.shape)\n",
    "x1 = MaxPooling1D(2)(x)\n",
    "print('Maxpooling : ', x1.shape)\n",
    "x2 = Conv1D(32,2, activation='relu', padding='valid')(x1)\n",
    "print('2. Schicht : ', x1.shape)\n",
    "x3 = MaxPooling1D(2)(x2)\n",
    "print('Maxpooling : ', x3.shape)\n",
    "flat = Flatten()(x3)\n",
    "encoded = Dense(32,activation = 'relu')(flat)\n",
    "print(\"Encoder Shape {}\".format(K.int_shape(encoded)))\n",
    "# DECODER \n",
    "print('--------DECODING-------')\n",
    "x2_ = Conv1D(32, 2, activation='relu', padding='valid')(x3)\n",
    "print('3. Schicht : ', x2_.shape)\n",
    "x1_ = UpSampling1D(3)(x2_)\n",
    "print('Upsampling : ', x1_.shape)\n",
    "x_ = Conv1D(32, 2, activation='relu', padding='valid')(x1_)\n",
    "print('4. Schicht : ', x_.shape)\n",
    "upsamp = UpSampling1D(3)(x_)\n",
    "print('Upsampling : ', upsamp.shape)\n",
    "\n",
    "flat = Flatten()(upsamp)\n",
    "decoded = Dense(2,activation = 'softmax')(flat)\n",
    "decoded = Reshape((2,1))(decoded)\n",
    " \n",
    "print(\"Decoder Shape {}\".format(K.int_shape(decoded)))\n",
    " \n",
    "autoencoder = Model(input_sig, decoded)\n",
    "autoencoder.compile(optimizer='adam', loss='mse', metrics=['accuracy'])\n",
    "autoencoder.summary()"
   ]
  },
  {
   "cell_type": "code",
   "execution_count": 17,
   "metadata": {},
   "outputs": [
    {
     "data": {
      "image/png": "[encoded data removed]",
      "text/plain": [
       "<Figure size 432x288 with 1 Axes>"
      ]
     },
     "metadata": {
      "needs_background": "light"
     },
     "output_type": "display_data"
    },
    {
     "name": "stdout",
     "output_type": "stream",
     "text": [
      "3/3 [==============================] - 0s 391us/step\n",
      "Accuracy: 33.33\n"
     ]
    }
   ],
   "source": [
    "targets_train_categorial = targets_train_categorial.reshape(targets_train_categorial.shape[0],2,1).astype( 'float32' )\n",
    "targets_test_categorial = targets_test_categorial.reshape(targets_test_categorial.shape[0],2,1).astype( 'float32' )\n",
    "autoencoder_train = autoencoder.fit(inputs_train, targets_train_categorial, \n",
    "                                    batch_size=2,\n",
    "                                    epochs=50,\n",
    "                                    verbose=1,\n",
    "                                    validation_data=(inputs_test, targets_test_categorial),\n",
    "                                    callbacks=[plot_losses])\n",
    "\n",
    "nochUnbekannterWert, score = autoencoder.evaluate(inputs_test, targets_test_categorial, batch_size=targets_test_categorial.shape[0])\n",
    "print('Accuracy: %.2f' % (score*100))"
   ]
  },
  {
   "cell_type": "code",
   "execution_count": 18,
   "metadata": {},
   "outputs": [],
   "source": [
    "#Prediction\n",
    "pred = autoencoder.predict(pred_inputs)"
   ]
  },
  {
   "cell_type": "code",
   "execution_count": 21,
   "metadata": {},
   "outputs": [
    {
     "name": "stdout",
     "output_type": "stream",
     "text": [
      "+-----------+---------------------------+--------------------------+-------+\n",
      "| Testmenge | Rekonstruktion (!has_DM2) | Rekonstruktion (has_DM2) | check |\n",
      "+-----------+---------------------------+--------------------------+-------+\n",
      "|    1.0    |        [0.8088248]        |       [0.19117527]       |   ✖   |\n",
      "|    0.0    |        [0.10684545]       |       [0.8931546]        |   ✖   |\n",
      "|    1.0    |        [0.6099252]        |       [0.3900748]        |   ✖   |\n",
      "|    1.0    |        [0.37858436]       |       [0.6214157]        |   ✔   |\n",
      "|    1.0    |        [0.33402005]       |       [0.6659799]        |   ✔   |\n",
      "|    1.0    |        [0.7101745]        |       [0.2898255]        |   ✖   |\n",
      "|    1.0    |        [0.31395635]       |       [0.6860436]        |   ✔   |\n",
      "|    0.0    |        [0.52548856]       |       [0.4745115]        |   ✔   |\n",
      "+-----------+---------------------------+--------------------------+-------+\n"
     ]
    }
   ],
   "source": [
    "y = PrettyTable()\n",
    "y.field_names = [\"Testmenge\", \"Rekonstruktion (!has_DM2)\", \"Rekonstruktion (has_DM2)\", \"check\"]\n",
    "\n",
    "i = 0\n",
    "for i in range(8):\n",
    "    soll = pred_targets[i]\n",
    "    ist = pred[i][0]\n",
    "    ist2 = pred[i][1]\n",
    "    check = '\\u2716'\n",
    "    if soll == 0.0 and ist > 0.5:\n",
    "        check = u'\\u2714'\n",
    "    elif soll == 1.0 and ist2 > 0.5:\n",
    "        check = u'\\u2714'\n",
    "    \n",
    "    y.add_row([soll, ist, ist2, check])\n",
    "    i+=1\n",
    "print(y)"
   ]
  },
  {
   "cell_type": "code",
   "execution_count": null,
   "metadata": {},
   "outputs": [],
   "source": []
  }
 ],
 "metadata": {
  "kernelspec": {
   "display_name": "Python 3",
   "language": "python",
   "name": "python3"
  },
  "language_info": {
   "codemirror_mode": {
    "name": "ipython",
    "version": 3
   },
   "file_extension": ".py",
   "mimetype": "text/x-python",
   "name": "python",
   "nbconvert_exporter": "python",
   "pygments_lexer": "ipython3",
   "version": "3.7.4"
  }
 },
 "nbformat": 4,
 "nbformat_minor": 2
}
