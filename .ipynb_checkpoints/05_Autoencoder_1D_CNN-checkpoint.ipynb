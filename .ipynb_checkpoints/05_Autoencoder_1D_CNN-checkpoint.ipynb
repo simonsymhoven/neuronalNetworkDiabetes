{
 "cells": [
  {
   "cell_type": "code",
   "execution_count": null,
   "metadata": {},
   "outputs": [],
   "source": [
    "# IMPORTS\n",
    "import pandas as pd\n",
    "from pandas import DataFrame\n",
    "import numpy as np\n",
    "import matplotlib as mpl\n",
    "import matplotlib.pyplot as plt\n",
    "import scipy as sc\n",
    "from scipy import linalg, optimize, constants, interpolate, special, stats\n",
    "import math as ma\n",
    "from math import exp, pow, sqrt, log\n",
    "import seaborn as sns \n",
    "import statsmodels.api as sm\n",
    "import statsmodels.stats.api as sms\n",
    "import keras \n",
    "from keras import backend as K\n",
    "from keras.utils import plot_model, to_categorical\n",
    "from keras.models import Sequential, Model\n",
    "from keras.layers import Dense, Activation, Dropout, Reshape\n",
    "from keras.layers import Conv1D, Conv2D, MaxPooling1D, Flatten, Input, UpSampling1D\n",
    "from keras.optimizers import SGD, RMSprop\n",
    "import sklearn as sl\n",
    "from sklearn.model_selection import train_test_split\n",
    "from sklearn.preprocessing import OneHotEncoder, StandardScaler\n",
    "from prettytable import PrettyTable\n",
    "\n",
    "\n",
    "\n",
    "%matplotlib inline"
   ]
  },
  {
   "cell_type": "code",
   "execution_count": 255,
   "metadata": {},
   "outputs": [
    {
     "name": "stdout",
     "output_type": "stream",
     "text": [
      "Input Shape :  (20, 3160, 1)\n",
      "Training data shape :  (14, 3160, 1) (14, 3160, 1)\n",
      "Testing data shape :  (6, 3160, 1) (6, 3160, 1)\n"
     ]
    }
   ],
   "source": [
    "# csv einlesen\n",
    "Vein = pd.read_csv('datensatz/vein.csv')\n",
    "# dataframe draus machen\n",
    "df = pd.DataFrame(Vein)\n",
    "\n",
    "#inputs und targets generieren (Spalte 1 für die Targets, Spalte 2 bis Ende für die Inputs)\n",
    "inputs = df.iloc[1:, 2:].values\n",
    "targets = df.iloc[1:, 2:].values\n",
    "inputs = inputs.reshape(-1,3160,1).astype( 'float32' )\n",
    "print('Input Shape : ' , inputs.shape)\n",
    "\n",
    "inputs = inputs / np.max(inputs)\n",
    "inputs_train, inputs_test, targets_train, targets_test = train_test_split(inputs, inputs, test_size = 0.3, random_state=12)\n",
    "\n",
    "#(Anzahl Datenpunkte, Höhe, Breite, Kanäle)  \n",
    "print('Training data shape : ', inputs_train.shape, targets_train.shape)\n",
    "print('Testing data shape : ', inputs_test.shape, targets_test.shape)\n",
    "\n"
   ]
  },
  {
   "cell_type": "markdown",
   "metadata": {},
   "source": [
    "### Plotfunktion"
   ]
  },
  {
   "cell_type": "code",
   "execution_count": 256,
   "metadata": {},
   "outputs": [],
   "source": [
    "#Funktion für Plot Loss\n",
    "from IPython.display import clear_output\n",
    "class PlotLosses(keras.callbacks.Callback):\n",
    "    def on_train_begin(self, logs={}):\n",
    "        self.i = 0\n",
    "        self.x = []\n",
    "        self.losses = []\n",
    "        self.val_losses = []\n",
    "        \n",
    "        self.fig = plt.figure()\n",
    "        \n",
    "        self.logs = []\n",
    "\n",
    "    def on_epoch_end(self, epoch, logs={}):\n",
    "        \n",
    "        self.logs.append(logs)\n",
    "        self.x.append(self.i)\n",
    "        self.losses.append(logs.get('loss'))\n",
    "        self.val_losses.append(logs.get('val_loss'))\n",
    "        self.i += 1\n",
    "        \n",
    "        clear_output(wait=True)\n",
    "        plt.plot(self.x, self.losses, label=\"loss\")\n",
    "        plt.plot(self.x, self.val_losses, label=\"val_loss\")\n",
    "        plt.legend()\n",
    "        plt.show();\n",
    "        \n",
    "plot_losses = PlotLosses()"
   ]
  },
  {
   "cell_type": "code",
   "execution_count": 257,
   "metadata": {},
   "outputs": [
    {
     "name": "stdout",
     "output_type": "stream",
     "text": [
      "shape of encoded (None, 32)\n",
      "shape of decoded (None, 3160, 1)\n",
      "Model: \"model_24\"\n",
      "_________________________________________________________________\n",
      "Layer (type)                 Output Shape              Param #   \n",
      "=================================================================\n",
      "input_54 (InputLayer)        (None, 3160, 1)           0         \n",
      "_________________________________________________________________\n",
      "conv1d_142 (Conv1D)          (None, 3158, 64)          256       \n",
      "_________________________________________________________________\n",
      "max_pooling1d_55 (MaxPooling (None, 1579, 64)          0         \n",
      "_________________________________________________________________\n",
      "conv1d_143 (Conv1D)          (None, 1577, 32)          6176      \n",
      "_________________________________________________________________\n",
      "max_pooling1d_56 (MaxPooling (None, 788, 32)           0         \n",
      "_________________________________________________________________\n",
      "conv1d_144 (Conv1D)          (None, 786, 32)           3104      \n",
      "_________________________________________________________________\n",
      "up_sampling1d_48 (UpSampling (None, 1572, 32)          0         \n",
      "_________________________________________________________________\n",
      "conv1d_145 (Conv1D)          (None, 1570, 64)          6208      \n",
      "_________________________________________________________________\n",
      "up_sampling1d_49 (UpSampling (None, 3140, 64)          0         \n",
      "_________________________________________________________________\n",
      "flatten_29 (Flatten)         (None, 200960)            0         \n",
      "_________________________________________________________________\n",
      "dense_29 (Dense)             (None, 3160)              635036760 \n",
      "_________________________________________________________________\n",
      "reshape_7 (Reshape)          (None, 3160, 1)           0         \n",
      "=================================================================\n",
      "Total params: 635,052,504\n",
      "Trainable params: 635,052,504\n",
      "Non-trainable params: 0\n",
      "_________________________________________________________________\n"
     ]
    }
   ],
   "source": [
    "# ENCODER\n",
    "input_sig = Input(batch_shape=(None,3160,1))\n",
    "x = Conv1D(64,3, activation='relu', padding='valid')(input_sig)\n",
    "x1 = MaxPooling1D(2)(x)\n",
    "x2 = Conv1D(32,3, activation='relu', padding='valid')(x1)\n",
    "x3 = MaxPooling1D(2)(x2)\n",
    "flat = Flatten()(x3)\n",
    "encoded = Dense(32,activation = 'relu')(flat)\n",
    " \n",
    "print(\"shape of encoded {}\".format(K.int_shape(encoded)))\n",
    " \n",
    "# DECODER \n",
    "x2_ = Conv1D(32, 3, activation='relu', padding='valid')(x3)\n",
    "x1_ = UpSampling1D(2)(x2_)\n",
    "x_ = Conv1D(64, 3, activation='relu', padding='valid')(x1_)\n",
    "upsamp = UpSampling1D(2)(x_)\n",
    "flat = Flatten()(upsamp)\n",
    "decoded = Dense(3160,activation = 'relu')(flat)\n",
    "decoded = Reshape((3160,1))(decoded)\n",
    " \n",
    "print(\"shape of decoded {}\".format(K.int_shape(decoded)))\n",
    " \n",
    "autoencoder = Model(input_sig, decoded)\n",
    "autoencoder.compile(optimizer='adam', loss='mse', metrics=['accuracy'])\n",
    "autoencoder.summary()"
   ]
  },
  {
   "cell_type": "code",
   "execution_count": null,
   "metadata": {},
   "outputs": [
    {
     "name": "stdout",
     "output_type": "stream",
     "text": [
      "Train on 14 samples, validate on 6 samples\n",
      "Epoch 1/5\n"
     ]
    }
   ],
   "source": [
    "autoencoder_train = autoencoder.fit(inputs_train, targets_train, \n",
    "                                    batch_size=14,\n",
    "                                    epochs=5,\n",
    "                                    verbose=1,\n",
    "                                    validation_data=(inputs_test, targets_test),\n",
    "                                    callbacks=[plot_losses])\n",
    "\n"
   ]
  },
  {
   "cell_type": "code",
   "execution_count": null,
   "metadata": {},
   "outputs": [],
   "source": [
    "# Plot: Training vs. Validation Loss\n",
    "loss = autoencoder_train.history['loss']\n",
    "val_loss = autoencoder_train.history['val_loss']\n",
    "epochs = range(epochs)\n",
    "plt.figure()\n",
    "plt.plot(epochs, loss, 'bo', label='Training loss')\n",
    "plt.plot(epochs, val_loss, 'b', label='Validation loss')\n",
    "plt.title('Training and validation loss')\n",
    "plt.legend()\n",
    "plt.show()"
   ]
  },
  {
   "cell_type": "code",
   "execution_count": null,
   "metadata": {},
   "outputs": [],
   "source": [
    "#Predicting on Test Data \n"
   ]
  }
 ],
 "metadata": {
  "kernelspec": {
   "display_name": "Python 3",
   "language": "python",
   "name": "python3"
  }
 },
 "nbformat": 4,
 "nbformat_minor": 2
}
