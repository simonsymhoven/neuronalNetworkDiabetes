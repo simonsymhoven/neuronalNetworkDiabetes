{
 "cells": [
  {
   "cell_type": "code",
   "execution_count": 1,
   "metadata": {},
   "outputs": [
    {
     "name": "stderr",
     "output_type": "stream",
     "text": [
      "Using TensorFlow backend.\n"
     ]
    }
   ],
   "source": [
    "# IMPORTS\n",
    "import pandas as pd\n",
    "from pandas import DataFrame\n",
    "import numpy as np\n",
    "import matplotlib as mpl\n",
    "import matplotlib.pyplot as plt\n",
    "import scipy as sc\n",
    "from scipy import linalg, optimize, constants, interpolate, special, stats\n",
    "import math as ma\n",
    "from math import exp, pow, sqrt, log\n",
    "import seaborn as sns \n",
    "import statsmodels.api as sm\n",
    "import statsmodels.stats.api as sms\n",
    "import keras\n",
    "from keras.utils import plot_model, to_categorical\n",
    "from keras.models import Sequential\n",
    "from keras.layers import Dense, Activation, Dropout\n",
    "from keras.layers import Conv2D, MaxPooling2D, Flatten\n",
    "from keras.optimizers import SGD\n",
    "import sklearn as sl\n",
    "from sklearn.model_selection import train_test_split\n",
    "from sklearn.preprocessing import OneHotEncoder, StandardScaler\n",
    "\n",
    "%matplotlib inline"
   ]
  },
  {
   "cell_type": "markdown",
   "metadata": {},
   "source": [
    "# CNN Modell"
   ]
  },
  {
   "cell_type": "markdown",
   "metadata": {},
   "source": [
    "### Daten vorverarbeiten"
   ]
  },
  {
   "cell_type": "code",
   "execution_count": 4,
   "metadata": {},
   "outputs": [
    {
     "name": "stdout",
     "output_type": "stream",
     "text": [
      "(20, 1, 3160, 1)\n",
      "Training data shape :  (14, 1, 3160, 1) (14,)\n",
      "Testing data shape :  (6, 1, 3160, 1) (6,)\n",
      "-----------------\n",
      "inputs_train max :  1638.477\n",
      "inputs_test max :  445.15768\n",
      "-----------------\n",
      "inputs_train max (skaliert):  1.0\n",
      "inputs_test max (skaliert):  1.0\n",
      "-----------------\n",
      "0.0\n",
      "[1. 0.]\n",
      "1.0\n",
      "[0. 1.]\n",
      "0.0\n",
      "[1. 0.]\n"
     ]
    }
   ],
   "source": [
    "# csv einlesen\n",
    "Vein = pd.read_csv('datensatz/vein.csv')\n",
    "# dataframe draus machen\n",
    "df = pd.DataFrame(Vein)\n",
    "\n",
    "#inputs und targets generieren (Spalte 1 für die Targets, Spalte 2 bis Ende für die Inputs)\n",
    "inputs = df.iloc[1:, 2:].values\n",
    "targets = df.iloc[1:, 1].values\n",
    "\n",
    "inputs = inputs.reshape(inputs.shape[0],1,3160, 1).astype( 'float32' )\n",
    "print(inputs.shape)\n",
    "\n",
    "inputs_train, inputs_test, targets_train, targets_test = train_test_split(inputs, targets, test_size = 0.3)\n",
    "\n",
    "\n",
    "#(Anzahl Datenpunkte, Höhe, Breite, Kanäle)  \n",
    "print('Training data shape : ', inputs_train.shape, targets_train.shape)\n",
    "print('Testing data shape : ', inputs_test.shape, targets_test.shape)\n",
    "\n",
    "print('-----------------')\n",
    "\n",
    "# INPUTS\n",
    "inputs_train_max = inputs_train[0].max()\n",
    "inputs_test_max = inputs_test[0].max()\n",
    "\n",
    "print('inputs_train max : ', inputs_train_max)\n",
    "print('inputs_test max : ', inputs_test_max)\n",
    "\n",
    "print('-----------------')\n",
    "\n",
    "inputs_train_scaled = inputs_train/inputs_train_max\n",
    "inputs_test_scaled = inputs_test/inputs_test_max\n",
    "\n",
    "print('inputs_train max (skaliert): ', inputs_train_scaled[0].max())\n",
    "print('inputs_test max (skaliert): ', inputs_test_scaled[0].max())\n",
    "\n",
    "print('-----------------')\n",
    "\n",
    "#TARGETS\n",
    "targets_train_categorial = to_categorical(targets_train)\n",
    "targets_test_categorial = to_categorical(targets_test)\n",
    "\n",
    "print(targets_train[0])\n",
    "print(targets_train_categorial[0])\n",
    "\n",
    "print(targets_train[1])\n",
    "print(targets_train_categorial[1])\n",
    "\n",
    "print(targets_train[2])\n",
    "print(targets_train_categorial[2])"
   ]
  },
  {
   "cell_type": "markdown",
   "metadata": {},
   "source": [
    "### Plotfunktion "
   ]
  },
  {
   "cell_type": "code",
   "execution_count": 6,
   "metadata": {},
   "outputs": [],
   "source": [
    "#Funktion für Plot Loss\n",
    "from IPython.display import clear_output\n",
    "class PlotLosses(keras.callbacks.Callback):\n",
    "    def on_train_begin(self, logs={}):\n",
    "        self.i = 0\n",
    "        self.x = []\n",
    "        self.losses = []\n",
    "        self.val_losses = []\n",
    "        \n",
    "        self.fig = plt.figure()\n",
    "        \n",
    "        self.logs = []\n",
    "\n",
    "    def on_epoch_end(self, epoch, logs={}):\n",
    "        \n",
    "        self.logs.append(logs)\n",
    "        self.x.append(self.i)\n",
    "        self.losses.append(logs.get('loss'))\n",
    "        self.val_losses.append(logs.get('val_loss'))\n",
    "        self.i += 1\n",
    "        \n",
    "        clear_output(wait=True)\n",
    "        plt.plot(self.x, self.losses, label=\"loss\")\n",
    "        plt.plot(self.x, self.val_losses, label=\"val_loss\")\n",
    "        plt.legend()\n",
    "        plt.show();\n",
    "        \n",
    "plot_losses = PlotLosses()"
   ]
  },
  {
   "cell_type": "markdown",
   "metadata": {},
   "source": [
    "# 2. CNN-Modell"
   ]
  },
  {
   "cell_type": "code",
   "execution_count": 14,
   "metadata": {},
   "outputs": [
    {
     "data": {
      "image/png": "[encoded data removed]",
      "text/plain": [
       "<Figure size 432x288 with 1 Axes>"
      ]
     },
     "metadata": {
      "needs_background": "light"
     },
     "output_type": "display_data"
    },
    {
     "name": "stdout",
     "output_type": "stream",
     "text": [
      "Model: \"sequential_7\"\n",
      "_________________________________________________________________\n",
      "Layer (type)                 Output Shape              Param #   \n",
      "=================================================================\n",
      "conv2d_13 (Conv2D)           (None, 1, 3160, 400)      1600      \n",
      "_________________________________________________________________\n",
      "conv2d_14 (Conv2D)           (None, 1, 3160, 200)      240200    \n",
      "_________________________________________________________________\n",
      "flatten_7 (Flatten)          (None, 632000)            0         \n",
      "_________________________________________________________________\n",
      "dense_7 (Dense)              (None, 2)                 1264002   \n",
      "=================================================================\n",
      "Total params: 1,505,802\n",
      "Trainable params: 1,505,802\n",
      "Non-trainable params: 0\n",
      "_________________________________________________________________\n",
      "None\n"
     ]
    }
   ],
   "source": [
    "veinModel = Sequential()\n",
    "veinModel.add(Conv2D(400,                #Anzahl der Filter\n",
    "              kernel_size=(3,1),        #Dimensionen des Fensters\n",
    "              strides=(1,1),            #Größe der Schritte\n",
    "              padding='same',           #Padding: same=dim(in)=dim(out), valid=no Padding\n",
    "              activation='relu',        #Aktivierungsfunktion\n",
    "              input_shape=(1,3160,1)))   #Dimension des Inputs\n",
    "\n",
    "veinModel.add(Conv2D(200, kernel_size=(3,1), \n",
    "                          strides=(1,1),            #Größe der Schritte\n",
    "                          padding='same',           #Padding: same=dim(in)=dim(out), valid=no Padding\n",
    "                          activation='relu',        #Aktivierungsfunktion\n",
    "                          input_shape=(1,3160,1)))\n",
    "\n",
    "veinModel.add(Flatten())                       #Feature-Vektor erzeugen\n",
    "veinModel.add(Dense(2, activation='softmax')) #dicht verschaltete Schicht - lernt Klassifikation!\n",
    "\n",
    "#backpropagation \n",
    "#Stochastic gradient descent\n",
    "sgd = SGD(lr=0.001, decay=1e-6, momentum=0.9, nesterov=True) #Parameter beim SGD Lernrate, Momentum, ...\n",
    "\n",
    "veinModel.compile(\n",
    "    optimizer=sgd, \n",
    "    loss='categorical_crossentropy', \n",
    "    metrics=['accuracy'])\n",
    "\n",
    "#train the model\n",
    "history_veinModel=veinModel.fit(inputs_train_scaled, targets_train_categorial, \n",
    "          epochs=5,\n",
    "          batch_size=20,\n",
    "          verbose=1,\n",
    "          validation_data=(inputs_test_scaled, targets_test_categorial),  \n",
    "          callbacks=[plot_losses])\n",
    "\n",
    "\n",
    "print(veinModel.summary())"
   ]
  },
  {
   "cell_type": "code",
   "execution_count": 15,
   "metadata": {},
   "outputs": [
    {
     "name": "stdout",
     "output_type": "stream",
     "text": [
      "[[0.5052563  0.49474362]]\n",
      "output\n",
      "0\n",
      "target\n",
      "1\n"
     ]
    }
   ],
   "source": [
    "#Prediction für das erste Bild der Testmenge\n",
    "result_VeinModel=veinModel.predict(inputs_test_scaled[:1])\n",
    "print(result_VeinModel)\n",
    "\n",
    "\n",
    "print ('output')\n",
    "print (np.argmax(result_VeinModel))\n",
    " \n",
    "print ('target') \n",
    "print (np.argmax(targets_test_categorial[:1]))"
   ]
  },
  {
   "cell_type": "code",
   "execution_count": null,
   "metadata": {},
   "outputs": [],
   "source": []
  }
 ],
 "metadata": {
  "kernelspec": {
   "display_name": "Python 3",
   "language": "python",
   "name": "python3"
  },
  "language_info": {
   "codemirror_mode": {
    "name": "ipython",
    "version": 3
   },
   "file_extension": ".py",
   "mimetype": "text/x-python",
   "name": "python",
   "nbconvert_exporter": "python",
   "pygments_lexer": "ipython3",
   "version": "3.7.4"
  }
 },
 "nbformat": 4,
 "nbformat_minor": 2
}
